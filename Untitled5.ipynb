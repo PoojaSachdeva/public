{
 "cells": [
  {
   "cell_type": "code",
   "execution_count": null,
   "id": "be9b838b",
   "metadata": {},
   "outputs": [],
   "source": [
    "import pdfplumber\n",
    "from openpyxl import Workbook\n",
    "\n",
    "def extract_qa_to_excel_with_headers(pdf_path, excel_path):\n",
    "    \"\"\"\n",
    "    Extracts questions and answers from a PDF and writes them to an Excel file, excluding the first line, \n",
    "    and dividing sections based on 'Objection' and 'Response' patterns followed by a number and semi-colon.\n",
    "    Args:\n",
    "    pdf_path (str): Path to the source PDF file.\n",
    "    excel_path (str): Path for the output Excel file.\n",
    "    \"\"\"\n",
    "    # Extract the filename from the PDF path\n",
    "    filename = pdf_path.split('/')[-1]\n",
    "\n",
    "    # Open the PDF file with pdfplumber\n",
    "    with pdfplumber.open(pdf_path) as pdf:\n",
    "        # Create a new Excel workbook and select the active sheet\n",
    "        workbook = Workbook()\n",
    "        sheet = workbook.active\n",
    "\n",
    "        # Set column headers in the Excel file\n",
    "        sheet.append([\"File Name\", \"Header\", \"Question\", \"Answer\"])\n",
    "\n",
    "        # Extract the first line of the PDF as the header (excluding the first line)\n",
    "        first_page = pdf.pages[0]\n",
    "        header = first_page.extract_text().split('\\n')[0]\n",
    "\n",
    "        full_text = ''\n",
    "        # Combine text from all pages\n",
    "        for page in pdf.pages:\n",
    "            full_text += page.extract_text() + '\\n'\n",
    "\n",
    "        # Split the text into sections based on 'Objection' and 'Response' patterns\n",
    "        sections = full_text.split(\"Objection \")\n",
    "\n",
    "        for section in sections[1:]:  # Start from the second section as the first one will not contain questions\n",
    "            # Find the index of \"Response\" to split into question and answer\n",
    "            response_index = section.find(\"Response\")\n",
    "            if response_index != -1:\n",
    "                # Extract question and answer\n",
    "                question = section[:response_index].strip()\n",
    "                answer = section[response_index:].strip()\n",
    "                # Include filename, header, question, and answer in each row\n",
    "                sheet.append([filename, header, question, answer])\n",
    "\n",
    "        # Save the workbook\n",
    "        workbook.save(excel_path)\n",
    "\n",
    "# File paths for the original PDF and output Excel file\n",
    "original_pdf_path = r\"D:\\Scholarship\\Objection database code\\LA GL SERF 1234_v4.pdf\"\n",
    "excel_path = r\"D:\\Scholarship\\Objection database code\\test1.xlsx\"\n",
    "\n",
    "# Extract questions and answers to Excel with headers\n",
    "extract_qa_to_excel_with_headers(original_pdf_path, excel_path)"
   ]
  }
 ],
 "metadata": {
  "kernelspec": {
   "display_name": "Python 3",
   "language": "python",
   "name": "python3"
  },
  "language_info": {
   "codemirror_mode": {
    "name": "ipython",
    "version": 3
   },
   "file_extension": ".py",
   "mimetype": "text/x-python",
   "name": "python",
   "nbconvert_exporter": "python",
   "pygments_lexer": "ipython3",
   "version": "3.8.8"
  }
 },
 "nbformat": 4,
 "nbformat_minor": 5
}
