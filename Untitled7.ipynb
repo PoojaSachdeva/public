{
 "cells": [
  {
   "cell_type": "code",
   "execution_count": null,
   "id": "5f2105ec",
   "metadata": {},
   "outputs": [],
   "source": [
    "# Able to identify Objection 1: & Response 1:\n",
    "\n",
    "\n",
    "import re  # Importing the regular expression module\n",
    "\n",
    "def extract_qa_to_excel_with_headers(pdf_path, excel_path):\n",
    "    \"\"\"\n",
    "    Extracts questions and answers from a PDF and writes them to an Excel file, including the PDF name and first line as headers.\n",
    "    Args:\n",
    "    pdf_path (str): Path to the source PDF file.\n",
    "    excel_path (str): Path for the output Excel file.\n",
    "    \"\"\"\n",
    "    # Extract the filename from the PDF path\n",
    "    filename = pdf_path.split('/')[-1]\n",
    "\n",
    "    # Open the PDF file with pdfplumber\n",
    "    with pdfplumber.open(pdf_path) as pdf:\n",
    "        # Create a new Excel workbook and select the active sheet\n",
    "        workbook = Workbook()\n",
    "        sheet = workbook.active\n",
    "\n",
    "        # Set column headers in the Excel file\n",
    "        sheet.append([\"File Name\", \"Header\", \"Question\", \"Answer\"])\n",
    "\n",
    "        # Extract the first line of the PDF\n",
    "        first_page = pdf.pages[0]\n",
    "        first_line = first_page.extract_text().split('\\n')[0]\n",
    "\n",
    "        full_text = ''\n",
    "        # Combine text from all pages\n",
    "        for page in pdf.pages:\n",
    "            full_text += page.extract_text() + '\\n'\n",
    "\n",
    "        # Split the text into sections based on 'Objection' followed by a number and a colon\n",
    "        sections = re.split(r'Objection\\s+\\d+:', full_text)\n",
    "        for section in sections:  # Iterate through all splits\n",
    "            # Find the position of 'Response' followed by a space and any digit\n",
    "            match = re.search(r'Response\\s+\\d:', section)\n",
    "            if match:\n",
    "                # Extract question and answer based on the position of 'Response'\n",
    "                question = section[:match.start()].strip()\n",
    "                answer = section[match.end():].strip()\n",
    "                # Include filename, first line, question, and answer in each row\n",
    "                sheet.append([filename, first_line, question, answer])\n",
    "\n",
    "        # Save the workbook\n",
    "        workbook.save(excel_path)\n",
    "\n",
    "# File paths for the original PDF and output Excel file\n",
    "original_pdf_path = (r\"D:\\Scholarship\\Objection database code\\LA GL SERF 1234_v5.pdf\")\n",
    "excel_path = (r\"D:\\Scholarship\\Objection database code\\test1.xlsx\")\n",
    "\n",
    "# Extract questions and answers to Excel with headers\n",
    "extract_qa_to_excel_with_headers(original_pdf_path, excel_path)\n"
   ]
  }
 ],
 "metadata": {
  "kernelspec": {
   "display_name": "Python 3",
   "language": "python",
   "name": "python3"
  },
  "language_info": {
   "codemirror_mode": {
    "name": "ipython",
    "version": 3
   },
   "file_extension": ".py",
   "mimetype": "text/x-python",
   "name": "python",
   "nbconvert_exporter": "python",
   "pygments_lexer": "ipython3",
   "version": "3.8.8"
  }
 },
 "nbformat": 4,
 "nbformat_minor": 5
}
